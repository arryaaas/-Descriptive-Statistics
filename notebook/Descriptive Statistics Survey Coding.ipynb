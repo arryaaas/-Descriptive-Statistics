{
 "cells": [
  {
   "cell_type": "markdown",
   "metadata": {
    "id": "2_H5wtuAXTRM"
   },
   "source": [
    "## Statistik Komputasi\n",
    "\n",
    "- Nama : Mochammad Arya Salsabila\n",
    "- NPM : 19081010001\n",
    "- Kelas : Statistik Komputasi (D)\n",
    "- Judul : Berapa Menit Anda Ngoding Dalam Satu Minggu"
   ]
  },
  {
   "cell_type": "markdown",
   "metadata": {
    "id": "mtvew04lXTRO"
   },
   "source": [
    "## Import Library\n",
    "\n",
    "[math](https://docs.python.org/3/library/math.html) | [NumPy](https://numpy.org/) | [Pandas](https://pandas.pydata.org/) | [Matplotlib](https://matplotlib.org/)"
   ]
  },
  {
   "cell_type": "code",
   "execution_count": 1,
   "metadata": {
    "id": "o8t3P8Z4XTRQ"
   },
   "outputs": [],
   "source": [
    "import math\n",
    "import numpy as np\n",
    "import pandas as pd\n",
    "from matplotlib import pyplot as plt\n",
    "\n",
    "%matplotlib inline "
   ]
  },
  {
   "cell_type": "markdown",
   "metadata": {
    "id": "9pnAPNZcXTRZ"
   },
   "source": [
    "## Inisialisasi Data Survei dari Excel"
   ]
  },
  {
   "cell_type": "code",
   "execution_count": 2,
   "metadata": {
    "id": "R-FR24-XXTRb"
   },
   "outputs": [],
   "source": [
    "df = pd.read_csv(\"coding.csv\")\n",
    "data = df[\"Berapa Menit Anda Ngoding Dalam Satu Minggu\"].tolist()"
   ]
  },
  {
   "cell_type": "markdown",
   "metadata": {
    "id": "A14LagdlXTRk"
   },
   "source": [
    "## Mean (nilai rata-rata)\n",
    "\n",
    "$\\large \\bar{x} = \\frac{x_1 + x_2 + x_3 + ... + x_n}{n} = \\frac{1}{n} \\sum \\limits^{n}_{i=1} x_i$"
   ]
  },
  {
   "cell_type": "code",
   "execution_count": 3,
   "metadata": {
    "id": "tVH_WtcMXTRl"
   },
   "outputs": [],
   "source": [
    "def mean(numbers):\n",
    "    return sum(numbers) / len(numbers)"
   ]
  },
  {
   "cell_type": "markdown",
   "metadata": {
    "id": "EtVwsd5NXTRs"
   },
   "source": [
    "## Median (nilai tengah)\n",
    "\n",
    "- Median dari data (n) ganjil:\n",
    "  - $\\large Me = x (\\frac{n+1}{2})$\n",
    "  \n",
    "- Median dari data (n) genap:\n",
    "  - $\\large Me = \\frac{1}{2} (x (\\frac{n}{2}) + (\\frac{n}{2} + 1))$"
   ]
  },
  {
   "cell_type": "code",
   "execution_count": 4,
   "metadata": {
    "id": "y7kRs1ENXTRt"
   },
   "outputs": [],
   "source": [
    "def median(numbers):\n",
    "    n = len(numbers)\n",
    "    if n % 2:\n",
    "        return sorted(numbers) [n//2]\n",
    "    else:\n",
    "        x = sorted(numbers) [(n//2)-1]\n",
    "        y = sorted(numbers) [n//2]\n",
    "        return (x+y)/2"
   ]
  },
  {
   "cell_type": "markdown",
   "metadata": {
    "id": "NeJ-vJD1XTR0"
   },
   "source": [
    "## Modus\n",
    "\n",
    "Nilai yang sering muncul dari suatu data."
   ]
  },
  {
   "cell_type": "code",
   "execution_count": 5,
   "metadata": {
    "id": "8jUzkW4IXTR1"
   },
   "outputs": [],
   "source": [
    "def mode(numbers):\n",
    "    mode = [0, 0]\n",
    "    for num in numbers:\n",
    "        frequency = numbers.count(num)\n",
    "        if (frequency >= mode[1]):\n",
    "            mode = [num, frequency]\n",
    "    return mode[0]"
   ]
  },
  {
   "cell_type": "markdown",
   "metadata": {
    "id": "OiXxSQX1XTR8"
   },
   "source": [
    "## Varian\n",
    "\n",
    "$\\large s^2 = \\frac{n \\sum \\limits^{n}_{i=1} x_i^2 - (\\sum \\limits^{n}_{i=1} x_1)^2}{n(n-1)}$"
   ]
  },
  {
   "cell_type": "code",
   "execution_count": 6,
   "metadata": {
    "id": "9NqGlj4wXTR9"
   },
   "outputs": [],
   "source": [
    "def var(numbers):\n",
    "    n = len(numbers)\n",
    "    squares = [num**2 for num in data]\n",
    "    return ((n*sum(squares)) - (sum(numbers)**2)) / (n*(n-1))"
   ]
  },
  {
   "cell_type": "markdown",
   "metadata": {
    "id": "mEvCLvWAXTSE"
   },
   "source": [
    "## Standar Deviasi / Simpangan Baku\n",
    "\n",
    "$\\large s = \\sqrt{ \\frac{n \\sum \\limits^{n}_{i=1} x_i^2 - (\\sum \\limits^{n}_{i=1} x_1)^2}{n(n-1)}}$"
   ]
  },
  {
   "cell_type": "code",
   "execution_count": 7,
   "metadata": {
    "id": "ueklSXBwXTSG"
   },
   "outputs": [],
   "source": [
    "def stdev(var):\n",
    "    return var**0.5"
   ]
  },
  {
   "cell_type": "markdown",
   "metadata": {
    "id": "1mSvuZ-SXTSP"
   },
   "source": [
    "## Kuartil Bawah (Q1)\n",
    "\n",
    "$\\large x_n = \\frac{1}{4}n$\n",
    "\n",
    "$\\large Q1 = x_n + 0,25 (x_{n+1} - x_n)$"
   ]
  },
  {
   "cell_type": "code",
   "execution_count": 8,
   "metadata": {
    "id": "4PiP5DatXTSQ"
   },
   "outputs": [],
   "source": [
    "def lower_quartile(numbers):\n",
    "    n = len(numbers)\n",
    "    return numbers[n//4-1] + 0.25 * (numbers[n//4] - numbers[n//4-1])"
   ]
  },
  {
   "cell_type": "markdown",
   "metadata": {
    "id": "uXbVAvcCXTSY"
   },
   "source": [
    "## Kuartil Atas (Q3)\n",
    "\n",
    "$\\large x_n = \\frac{3}{4}n$\n",
    "\n",
    "$\\large Q3 = x_n + 0,75 (x_{n+1} - x_n)$"
   ]
  },
  {
   "cell_type": "code",
   "execution_count": 9,
   "metadata": {
    "id": "YFddAecWXTSZ"
   },
   "outputs": [],
   "source": [
    "def upper_quartile(numbers):\n",
    "    n = len(numbers)\n",
    "    return numbers[(n*3)//4-1] + 0.75 * (numbers[(n*3)//4] - numbers[(n*3)//4-1])"
   ]
  },
  {
   "cell_type": "markdown",
   "metadata": {
    "id": "vIVvakIsXTSh"
   },
   "source": [
    "## Range / Rentang Data\n",
    "\n",
    "$\\large R = nilai_{maksimal} - nilai_{minimal}$"
   ]
  },
  {
   "cell_type": "code",
   "execution_count": 10,
   "metadata": {
    "id": "Y9GIz_LiXTSi"
   },
   "outputs": [],
   "source": [
    "def class_range(numbers):\n",
    "    return max(numbers) - min(numbers)"
   ]
  },
  {
   "cell_type": "markdown",
   "metadata": {
    "id": "OM9XCiufXTSo"
   },
   "source": [
    "## Banyaknya Kelas\n",
    "\n",
    "$\\large K = 1 + 3,3\\log(n)$"
   ]
  },
  {
   "cell_type": "code",
   "execution_count": 11,
   "metadata": {
    "id": "QYHtsr4qXTSp"
   },
   "outputs": [],
   "source": [
    "def number_of_classes(numbers):\n",
    "    return round(1 + 3.3 * math.log10(len(numbers)))"
   ]
  },
  {
   "cell_type": "markdown",
   "metadata": {
    "id": "Gt2HEDSHXTSu"
   },
   "source": [
    "## Panjang Interval Kelas\n",
    "\n",
    "$\\large P = \\frac{R}{K}$"
   ]
  },
  {
   "cell_type": "code",
   "execution_count": 12,
   "metadata": {
    "id": "pnbqtgayXTSu"
   },
   "outputs": [],
   "source": [
    "def class_length(class_range, number_of_classes):\n",
    "    return round(class_range / number_of_classes)"
   ]
  },
  {
   "cell_type": "markdown",
   "metadata": {
    "id": "e_uztg75XTSy"
   },
   "source": [
    "## Batas Kelas, Tepi Kelas, & Interval Kelas"
   ]
  },
  {
   "cell_type": "code",
   "execution_count": 13,
   "metadata": {
    "id": "-Kf17ZHwXTSz"
   },
   "outputs": [],
   "source": [
    "def class_limit(numbers, number_of_classes, class_length):\n",
    "    bot_limit = [0]*number_of_classes\n",
    "    top_limit = [0]*number_of_classes\n",
    "    for i in range(number_of_classes):\n",
    "        if (i == 0):\n",
    "            bot_limit[i] = min(numbers)\n",
    "            top_limit[i] = min(numbers) + (class_length-1)\n",
    "        else:\n",
    "            bot_limit[i] = bot_limit[i-1] + class_length\n",
    "            top_limit[i] = top_limit[i-1] + class_length\n",
    "    return bot_limit, top_limit\n",
    "\n",
    "def class_edge(class_limit, number_of_classes):\n",
    "    bot_limit = class_limit[0]\n",
    "    top_limit = class_limit[1]\n",
    "    bot_edge = [0]*number_of_classes\n",
    "    top_edge = [0]*number_of_classes\n",
    "    for i in range(number_of_classes):\n",
    "        bot_edge[i] = bot_limit[i] - 0.5\n",
    "        top_edge[i] = top_limit[i] + 0.5\n",
    "    return bot_edge, top_edge\n",
    "\n",
    "def class_interval(class_limit):\n",
    "    bot_limit = class_limit[0]\n",
    "    top_limit = class_limit[1]\n",
    "    interval = [0]*len(class_limit[0])\n",
    "    for i in range(len(class_limit[0])):\n",
    "        interval[i] = \"%3d - %3d\" % (bot_limit[i], top_limit[i])\n",
    "    return interval"
   ]
  },
  {
   "cell_type": "markdown",
   "metadata": {
    "id": "NohRR1kiXTS2"
   },
   "source": [
    "## Frekuensi, Frekuensi Kumulatif, Frekuensi Relatif, & Frekuensi Relatif Kumulatif"
   ]
  },
  {
   "cell_type": "code",
   "execution_count": 14,
   "metadata": {
    "id": "AB2prereXTS3"
   },
   "outputs": [],
   "source": [
    "def frequency(numbers, number_of_classes, class_limit):\n",
    "    bot_limit = class_limit[0]\n",
    "    top_limit = class_limit[1]\n",
    "    frequency = [0]*number_of_classes\n",
    "    for i in range(number_of_classes):\n",
    "        for j in range(len(numbers)):\n",
    "            if (numbers[j] >= bot_limit[i] and \n",
    "                numbers[j] <= top_limit[i]):\n",
    "                frequency[i] += 1\n",
    "    return frequency\n",
    "\n",
    "def cumulative_frequency(freq):\n",
    "    cumulative_freq1 = [0]*len(freq)\n",
    "    cumulative_freq2 = [0]*len(freq)\n",
    "    for i in range(len(freq)):\n",
    "        if (i == 0):\n",
    "            cumulative_freq1[i] = freq[i]\n",
    "            cumulative_freq2[i] = sum(freq)\n",
    "        else:\n",
    "            cumulative_freq1[i] = cumulative_freq1[i-1] + freq[i]\n",
    "            cumulative_freq2[i] = cumulative_freq2[i-1] - freq[i-1]\n",
    "    return cumulative_freq1, cumulative_freq2\n",
    "\n",
    "def relative_frequency(freq):\n",
    "    relative_freq = [0]*len(freq)\n",
    "    for i in range(len(freq)):\n",
    "        relative_freq[i] = int((freq[i] / sum(freq)) * 100)\n",
    "    return relative_freq\n",
    "\n",
    "def cumulative_relative_frequency(freq, cumulative_freq):\n",
    "    cumulative_freq1 = cumulative_freq[0]\n",
    "    cumulative_freq2 = cumulative_freq[1]\n",
    "    relative_cumulative_freq1 = [0]*len(freq)\n",
    "    relative_cumulative_freq2 = [0]*len(freq)\n",
    "    for i in range(len(freq)):\n",
    "        relative_cumulative_freq1[i] = int((cumulative_freq1[i] / sum(freq)) * 100)\n",
    "        relative_cumulative_freq2[i] = int((cumulative_freq2[i] / sum(freq)) * 100)\n",
    "    return relative_cumulative_freq1, relative_cumulative_freq2"
   ]
  },
  {
   "cell_type": "markdown",
   "metadata": {
    "id": "jMN9wTzRXTS6"
   },
   "source": [
    "## Fungsi lain-lain"
   ]
  },
  {
   "cell_type": "code",
   "execution_count": 15,
   "metadata": {
    "id": "Ufa6LVluXTS6"
   },
   "outputs": [],
   "source": [
    "def xticks(class_edge):\n",
    "    bot_edge = class_edge[0]\n",
    "    top_edge = class_edge[1]\n",
    "    ticks = [0]*len(class_edge[0])\n",
    "    for i in range(len(class_edge[0])):\n",
    "        ticks[i] = bot_edge[i]\n",
    "    ticks.append(top_edge[-1])\n",
    "    return ticks\n",
    "\n",
    "def print_data_processing(mean, median, mode, quart1, quart3, var, stdev, \n",
    "                          class_range, number_of_classes, class_length):\n",
    "    print(\"Mean               : \" + str(mean))\n",
    "    print(\"Median             : \" + str(median))\n",
    "    print(\"Modus              : \" + str(mode))\n",
    "    print(\"Kuartil Bawah (Q1) : \" + str(quart1))\n",
    "    print(\"Kuartil atas  (Q3) : \" + str(quart3))\n",
    "    print(\"Varian             : \" + str(var))\n",
    "    print(\"Standar Deviasi    : \" + str(stdev))\n",
    "    print(\"Rentang Kelas      : \" + str(class_range))\n",
    "    print(\"Banyak Kelas       : \" + str(number_of_classes))\n",
    "    print(\"Panjang Kelas      : \" + str(class_length))"
   ]
  },
  {
   "cell_type": "markdown",
   "metadata": {
    "id": "jlVWTUYCXTS-"
   },
   "source": [
    "## Fungsi Menampilkan Grafik Histogram"
   ]
  },
  {
   "cell_type": "code",
   "execution_count": 16,
   "metadata": {
    "id": "QTyjmUs-XTS_"
   },
   "outputs": [],
   "source": [
    "def draw_hist():\n",
    "    data2 = np.array(data)\n",
    "    \n",
    "    plt.style.use(\"seaborn\")\n",
    "    fig, ax = plt.subplots(nrows=2, ncols=2, figsize=(15, 12))\n",
    "\n",
    "    ax[0, 0].hist(data, bins=class_, edgecolor=\"white\", color=\"turquoise\")\n",
    "    ax[0, 0].set_xticks(xticks(edge))\n",
    "    ax[0, 0].set_title(\"Distribusi Frekuensi\")\n",
    "    ax[0, 0].set_xlabel(\"Interval Kelas\")\n",
    "    ax[0, 0].set_ylabel(\"Frekuensi\")\n",
    "\n",
    "    ax[0, 1].hist(data, bins=class_, edgecolor=\"white\", color=\"darkslateblue\",\n",
    "                  cumulative=True, alpha=0.75, label=\"Fk ≤\")\n",
    "    ax[0, 1].hist(data, bins=class_, edgecolor=\"white\", color=\"turquoise\",\n",
    "                  cumulative=-1, alpha=0.75, label=\"Fk ≥\")\n",
    "    ax[0, 1].legend(loc=\"best\")\n",
    "    ax[0, 1].set_xticks(xticks(edge))\n",
    "    ax[0, 1].set_title(\"Distribusi Frekuensi Kumulatif\")\n",
    "    ax[0, 1].set_xlabel(\"Interval Kelas\")\n",
    "    ax[0, 1].set_ylabel(\"Frekuensi\")\n",
    "\n",
    "    ax[1, 0].hist(data2, bins=class_, edgecolor=\"white\", color=\"turquoise\",\n",
    "                  weights=np.zeros_like(data2) + 100. / data2.size)\n",
    "    ax[1, 0].set_xticks(xticks(edge))\n",
    "    ax[1, 0].set_title(\"Distribusi Frekuensi Relatif\")\n",
    "    ax[1, 0].set_xlabel(\"Interval Kelas\")\n",
    "    ax[1, 0].set_ylabel(\"Frekuensi\")\n",
    "\n",
    "    ax[1, 1].hist(data2, bins=class_, edgecolor=\"white\", color=\"darkslateblue\",\n",
    "                  cumulative=True, alpha=0.75, label=\"Fk ≤\",\n",
    "                  weights=np.zeros_like(data2) + 100. / data2.size)\n",
    "    ax[1, 1].hist(data2, bins=class_, edgecolor=\"white\", color=\"turquoise\",\n",
    "                  cumulative=-1, alpha=0.75, label=\"Fk ≥\",\n",
    "                  weights=np.zeros_like(data2) + 100. / data2.size)\n",
    "    ax[1, 1].legend(loc=\"best\")\n",
    "    ax[1, 1].set_xticks(xticks(edge))\n",
    "    ax[1, 1].set_title(\"Distribusi Frekuensi Relatif Kumulatif\")\n",
    "    ax[1, 1].set_xlabel(\"Interval Kelas\")\n",
    "    ax[1, 1].set_ylabel(\"Frekuensi\")\n",
    "\n",
    "    plt.show()"
   ]
  },
  {
   "cell_type": "markdown",
   "metadata": {
    "id": "KgwNNCfcXTTB"
   },
   "source": [
    "## Fungsi Menampilkan Grafik Lingkaran"
   ]
  },
  {
   "cell_type": "code",
   "execution_count": 17,
   "metadata": {
    "id": "aAoGsRD5XTTC"
   },
   "outputs": [],
   "source": [
    "def draw_pie():\n",
    "    colors1 = [\"yellowgreen\", \"gold\", \"lightskyblue\", \"lightcoral\", \"lightgreen\",\n",
    "               \"pink\", \"cyan\"]\n",
    "    colors2 = [\"cornflowerblue\", \"mediumseagreen\", \"indianred\", \"orchid\",\n",
    "               \"burlywood\", \"skyblue\", \"orange\"]\n",
    "\n",
    "    fig, ax = plt.subplots(nrows=2, ncols=2, figsize=(15, 12))\n",
    "\n",
    "    ax[0, 0].pie(freq, autopct=\"%1.1f%%\", colors=colors1,\n",
    "                 wedgeprops = {\"linewidth\" : \"3\",\"edgecolor\" : \"white\"})\n",
    "    ax[0, 0].legend(labels=interval, loc=\"right\", bbox_to_anchor=(1.3, 0.5))\n",
    "    ax[0, 0].set_title(\"Distribusi Frekuensi\")\n",
    "\n",
    "    ax[0, 1].pie(cumulative_freq[1], autopct=\"%1.1f%%\",\n",
    "                 radius=1.05, pctdistance=0.8, colors=colors1,\n",
    "                 wedgeprops = {\"linewidth\" : \"3\", \"edgecolor\" : \"white\"})\n",
    "    ax[0, 1].pie(cumulative_freq[0], autopct=\"%1.1f%%\",\n",
    "                 radius=0.7, pctdistance=0.7, colors=colors2,\n",
    "                 wedgeprops = {\"linewidth\" : \"3\", \"edgecolor\" : \"white\"})\n",
    "    ax[0, 1].legend(labels=cumulative_frequency_distribution[\n",
    "                    [\"Lebih Dari\", \"Kurang Dari\"]].values.T.ravel().tolist(),\n",
    "                    loc=\"right\", bbox_to_anchor=(1.3, 0.5))\n",
    "    ax[0, 1].set_title(\"Distribusi Frekuensi Kumulatif\")\n",
    "\n",
    "    ax[1, 0].pie(relative_freq, autopct=\"%1.1f%%\", colors=colors1,\n",
    "                 wedgeprops = {\"linewidth\" : \"3\", \"edgecolor\" : \"white\"})\n",
    "    ax[1, 0].legend(labels=interval, loc=\"right\", bbox_to_anchor=(1.3, 0.5))\n",
    "    ax[1, 0].set_title(\"Distribusi Frekuensi Relatif\")\n",
    "\n",
    "    ax[1, 1].pie(cumulative_relative_freq[1], autopct=\"%1.1f%%\",\n",
    "                 radius=1.05, pctdistance=0.8, colors=colors1,\n",
    "                 wedgeprops = {\"linewidth\" : \"3\", \"edgecolor\" : \"white\"})\n",
    "    ax[1, 1].pie(cumulative_relative_freq[0], autopct=\"%1.1f%%\",\n",
    "                 radius=0.7, pctdistance=0.7, colors=colors2,\n",
    "                 wedgeprops = {\"linewidth\" : \"3\", \"edgecolor\" : \"white\"})\n",
    "    ax[1, 1].legend(labels=cumulative_relative_frequency_distribution[\n",
    "                    [\"Lebih Dari\", \"Kurang Dari\"]].values.T.ravel().tolist(),\n",
    "                    loc=\"right\", bbox_to_anchor=(1.3, 0.5))\n",
    "    ax[1, 1].set_title(\"Distribusi Frekuensi Relatif Kumulatif\")\n",
    "\n",
    "    plt.show()"
   ]
  },
  {
   "cell_type": "markdown",
   "metadata": {
    "id": "uiLlmshnXTTF"
   },
   "source": [
    "## Fungsi Menampilkan Grafik Ogive"
   ]
  },
  {
   "cell_type": "code",
   "execution_count": 18,
   "metadata": {
    "id": "TAD-JGbbXTTF"
   },
   "outputs": [],
   "source": [
    "def draw_ogive():\n",
    "    plt.style.use(\"seaborn\")\n",
    "    fig, ax = plt.subplots(nrows=2, ncols=2, figsize=(18, 12))\n",
    "\n",
    "    ax[0, 0].plot(interval, freq)\n",
    "    ax[0, 0].set_title(\"Distribusi Frekuensi\")\n",
    "    ax[0, 0].set_xlabel(\"Interval Kelas\")\n",
    "    ax[0, 0].set_ylabel(\"Frekuensi\")\n",
    "\n",
    "    ax[0, 1].plot(interval, cumulative_freq[0], label=\"Ogive Positif\")\n",
    "    ax[0, 1].plot(interval, cumulative_freq[1], label=\"Ogive Negatif\")\n",
    "    ax[0, 1].legend(loc=\"best\")\n",
    "    ax[0, 1].set_title(\"Distribusi Frekuensi Kumulatif\")\n",
    "    ax[0, 1].set_xlabel(\"Interval Kelas\")\n",
    "    ax[0, 1].set_ylabel(\"Frekuensi Kumulatif\")\n",
    "\n",
    "    ax[1, 0].plot(interval, relative_freq)\n",
    "    ax[1, 0].set_title(\"Distribusi Frekuensi Relatif\")\n",
    "    ax[1, 0].set_xlabel(\"Interval Kelas\")\n",
    "    ax[1, 0].set_ylabel(\"Frekuensi\")\n",
    "\n",
    "    ax[1, 1].plot(interval, cumulative_relative_freq[0], label=\"Ogive Positif\")\n",
    "    ax[1, 1].plot(interval, cumulative_relative_freq[1], label=\"Ogive Negatif\")\n",
    "    ax[1, 1].legend(loc=\"best\")\n",
    "    ax[1, 1].set_title(\"Distribusi Frekuensi Relatif Kumulatif\")\n",
    "    ax[1, 1].set_xlabel(\"Interval Kelas\")\n",
    "    ax[1, 1].set_ylabel(\"Frekuensi Kumulatif\")\n",
    "\n",
    "    plt.show()"
   ]
  },
  {
   "cell_type": "markdown",
   "metadata": {
    "id": "6K7Wtks5XTTI"
   },
   "source": [
    "## Deklarasi Variabel & Pemanggilan Fungsi"
   ]
  },
  {
   "cell_type": "code",
   "execution_count": 19,
   "metadata": {
    "id": "nm-xjy1eXTTJ"
   },
   "outputs": [],
   "source": [
    "mean_ = mean(data)\n",
    "median_ = median(data)\n",
    "mode_ = mode(data)\n",
    "q1_ = lower_quartile(data)\n",
    "q3_ = upper_quartile(data)\n",
    "var_ = var(data)\n",
    "std_ = stdev(var_)\n",
    "\n",
    "range_ = class_range(data)\n",
    "class_ = number_of_classes(data)\n",
    "length_ = class_length(range_, class_)\n",
    "\n",
    "limit = class_limit(data, class_, length_)\n",
    "edge = class_edge(limit, class_)\n",
    "freq = frequency(data, class_, limit)\n",
    "cumulative_freq = cumulative_frequency(freq)\n",
    "relative_freq = relative_frequency(freq)\n",
    "cumulative_relative_freq = cumulative_relative_frequency(freq, cumulative_freq)\n",
    "interval = class_interval(limit)"
   ]
  },
  {
   "cell_type": "markdown",
   "metadata": {
    "id": "uipESzpeXTTL"
   },
   "source": [
    "## Membuat Tabel dengan Dataframe"
   ]
  },
  {
   "cell_type": "code",
   "execution_count": 20,
   "metadata": {
    "id": "ulMgOObcXTTM"
   },
   "outputs": [],
   "source": [
    "frequency_distribution = pd.DataFrame({\n",
    "    \"Interval Kelas\" : interval, \n",
    "    \"Frekuensi\" : freq\n",
    "})\n",
    "\n",
    "cumulative_frequency_distribution = pd.DataFrame({\n",
    "    \"Interval Kelas\" : interval, \n",
    "    \"Kurang Dari\" : edge[0],\n",
    "    \"Fk ≤\" : cumulative_freq[0],\n",
    "    \"Lebih Dari\" : edge[1],\n",
    "    \"Fk ≥\" : cumulative_freq[1]\n",
    "})\n",
    "cumulative_frequency_distribution[\"Kurang Dari\"] = \\\n",
    "    \"≤ \"+ cumulative_frequency_distribution[\"Kurang Dari\"].astype(str)\n",
    "cumulative_frequency_distribution[\"Lebih Dari\"] = \\\n",
    "    \"≥ \" + cumulative_frequency_distribution[\"Lebih Dari\"].astype(str)\n",
    "\n",
    "relative_frequency_distribution = pd.DataFrame({\n",
    "    \"Interval Kelas\" : interval, \n",
    "    \"Frekuensi\" : freq,\n",
    "    \"Persentase (%)\" : relative_freq\n",
    "})\n",
    "relative_frequency_distribution[\"Persentase (%)\"] = \\\n",
    "    relative_frequency_distribution[\"Persentase (%)\"].astype(str) + \"%\"\n",
    "\n",
    "cumulative_relative_frequency_distribution = pd.DataFrame({\n",
    "    \"Interval Kelas\" : interval, \n",
    "    \"Kurang Dari\" : edge[0],\n",
    "    \"Fk ≤ (%)\" : cumulative_relative_freq[0],\n",
    "    \"Lebih Dari\" : edge[1],\n",
    "    \"Fk ≥ (%)\" : cumulative_relative_freq[1]\n",
    "})\n",
    "cumulative_relative_frequency_distribution[\"Fk ≤ (%)\"] = \\\n",
    "    cumulative_relative_frequency_distribution[\"Fk ≤ (%)\"].astype(str) + \"%\"\n",
    "cumulative_relative_frequency_distribution[\"Fk ≥ (%)\"] = \\\n",
    "    cumulative_relative_frequency_distribution[\"Fk ≥ (%)\"].astype(str) + \"%\"\n",
    "cumulative_relative_frequency_distribution[\"Kurang Dari\"] = \\\n",
    "    \"≤ \" + cumulative_relative_frequency_distribution[\"Kurang Dari\"].astype(str)\n",
    "cumulative_relative_frequency_distribution[\"Lebih Dari\"] = \\\n",
    "    \"≥ \" + cumulative_relative_frequency_distribution[\"Lebih Dari\"].astype(str)"
   ]
  },
  {
   "cell_type": "markdown",
   "metadata": {
    "id": "6CgDP6h9XTTP"
   },
   "source": [
    "## Data Hasil Survei"
   ]
  },
  {
   "cell_type": "code",
   "execution_count": 21,
   "metadata": {
    "colab": {
     "base_uri": "https://localhost:8080/",
     "height": 1000
    },
    "id": "x-ONK9guXTTP",
    "outputId": "d6749cdc-9f84-4bc4-844e-3f1dc2726d26",
    "scrolled": false
   },
   "outputs": [
    {
     "data": {
      "text/html": [
       "<div>\n",
       "<style scoped>\n",
       "    .dataframe tbody tr th:only-of-type {\n",
       "        vertical-align: middle;\n",
       "    }\n",
       "\n",
       "    .dataframe tbody tr th {\n",
       "        vertical-align: top;\n",
       "    }\n",
       "\n",
       "    .dataframe thead th {\n",
       "        text-align: right;\n",
       "    }\n",
       "</style>\n",
       "<table border=\"1\" class=\"dataframe\">\n",
       "  <thead>\n",
       "    <tr style=\"text-align: right;\">\n",
       "      <th></th>\n",
       "      <th>Nama Lengkap</th>\n",
       "      <th>No KTP / NPM</th>\n",
       "      <th>Kecamatan</th>\n",
       "      <th>Kabupaten / Kota</th>\n",
       "      <th>Berapa Menit Anda Ngoding Dalam Satu Minggu</th>\n",
       "    </tr>\n",
       "  </thead>\n",
       "  <tbody>\n",
       "    <tr>\n",
       "      <th>0</th>\n",
       "      <td>Mohammad Khairil Amin</td>\n",
       "      <td>19081010004</td>\n",
       "      <td>Kecamatan Kota Sumenep</td>\n",
       "      <td>Kabupaten Sumenep</td>\n",
       "      <td>20</td>\n",
       "    </tr>\n",
       "    <tr>\n",
       "      <th>1</th>\n",
       "      <td>Nizar Abdurrahman</td>\n",
       "      <td>19081010025</td>\n",
       "      <td>Beji</td>\n",
       "      <td>Pasuruan</td>\n",
       "      <td>30</td>\n",
       "    </tr>\n",
       "    <tr>\n",
       "      <th>2</th>\n",
       "      <td>Agung Rahmawan Gading</td>\n",
       "      <td>19081010161</td>\n",
       "      <td>Tambak Sari</td>\n",
       "      <td>Surabaya</td>\n",
       "      <td>30</td>\n",
       "    </tr>\n",
       "    <tr>\n",
       "      <th>3</th>\n",
       "      <td>Lusian Nandang Arjamulia</td>\n",
       "      <td>19081010070</td>\n",
       "      <td>Maos</td>\n",
       "      <td>Cilacap</td>\n",
       "      <td>45</td>\n",
       "    </tr>\n",
       "    <tr>\n",
       "      <th>4</th>\n",
       "      <td>Muhammad Helmi</td>\n",
       "      <td>19081010111</td>\n",
       "      <td>Suko</td>\n",
       "      <td>Sidoarjo</td>\n",
       "      <td>45</td>\n",
       "    </tr>\n",
       "    <tr>\n",
       "      <th>5</th>\n",
       "      <td>Arya Fadhilah Daniswara</td>\n",
       "      <td>19081010187</td>\n",
       "      <td>Karang pilang</td>\n",
       "      <td>Surabaya</td>\n",
       "      <td>60</td>\n",
       "    </tr>\n",
       "    <tr>\n",
       "      <th>6</th>\n",
       "      <td>Nadhif Mahardika Awandi</td>\n",
       "      <td>19081010064</td>\n",
       "      <td>Taktakan</td>\n",
       "      <td>Serang</td>\n",
       "      <td>60</td>\n",
       "    </tr>\n",
       "    <tr>\n",
       "      <th>7</th>\n",
       "      <td>Muhammad Rayhan Rachmansyah</td>\n",
       "      <td>19081010002</td>\n",
       "      <td>Sedati</td>\n",
       "      <td>Sidoarjo</td>\n",
       "      <td>75</td>\n",
       "    </tr>\n",
       "    <tr>\n",
       "      <th>8</th>\n",
       "      <td>Octavianus Fian</td>\n",
       "      <td>19081010096</td>\n",
       "      <td>Rungkut</td>\n",
       "      <td>Surabaya</td>\n",
       "      <td>100</td>\n",
       "    </tr>\n",
       "    <tr>\n",
       "      <th>9</th>\n",
       "      <td>Achmad Yuneda Alfajr</td>\n",
       "      <td>19081010128</td>\n",
       "      <td>Buduran</td>\n",
       "      <td>Sidoarjo</td>\n",
       "      <td>100</td>\n",
       "    </tr>\n",
       "    <tr>\n",
       "      <th>10</th>\n",
       "      <td>Ghani Rafif Irawan</td>\n",
       "      <td>19081010110</td>\n",
       "      <td>Jombang</td>\n",
       "      <td>Jombang</td>\n",
       "      <td>120</td>\n",
       "    </tr>\n",
       "    <tr>\n",
       "      <th>11</th>\n",
       "      <td>Mochammad Kevin Santosa</td>\n",
       "      <td>19081010170</td>\n",
       "      <td>Kerek</td>\n",
       "      <td>Tuban</td>\n",
       "      <td>120</td>\n",
       "    </tr>\n",
       "    <tr>\n",
       "      <th>12</th>\n",
       "      <td>Dimas zainal muttaqin</td>\n",
       "      <td>19081010012</td>\n",
       "      <td>Buduran</td>\n",
       "      <td>Sidoarjo</td>\n",
       "      <td>120</td>\n",
       "    </tr>\n",
       "    <tr>\n",
       "      <th>13</th>\n",
       "      <td>Haryo Ghaza R</td>\n",
       "      <td>17081010072</td>\n",
       "      <td>Tenggilis Mejoyo</td>\n",
       "      <td>Kota Surabaya</td>\n",
       "      <td>120</td>\n",
       "    </tr>\n",
       "    <tr>\n",
       "      <th>14</th>\n",
       "      <td>Dimas Seno Herlambang</td>\n",
       "      <td>19081010152</td>\n",
       "      <td>Sedati</td>\n",
       "      <td>Sidoarjo</td>\n",
       "      <td>140</td>\n",
       "    </tr>\n",
       "    <tr>\n",
       "      <th>15</th>\n",
       "      <td>Aniisah Eka Rahmawati</td>\n",
       "      <td>19081010063</td>\n",
       "      <td>Jombang</td>\n",
       "      <td>Jombang</td>\n",
       "      <td>150</td>\n",
       "    </tr>\n",
       "    <tr>\n",
       "      <th>16</th>\n",
       "      <td>Alfinas Agung Mujiono</td>\n",
       "      <td>19081010069</td>\n",
       "      <td>Benowo</td>\n",
       "      <td>Surabaya</td>\n",
       "      <td>160</td>\n",
       "    </tr>\n",
       "    <tr>\n",
       "      <th>17</th>\n",
       "      <td>Eriko Indra Permana</td>\n",
       "      <td>19081010091</td>\n",
       "      <td>Pedurungan</td>\n",
       "      <td>Kota Semarang</td>\n",
       "      <td>180</td>\n",
       "    </tr>\n",
       "    <tr>\n",
       "      <th>18</th>\n",
       "      <td>Zata Hashfi</td>\n",
       "      <td>19081010116</td>\n",
       "      <td>Mandau</td>\n",
       "      <td>Duri</td>\n",
       "      <td>180</td>\n",
       "    </tr>\n",
       "    <tr>\n",
       "      <th>19</th>\n",
       "      <td>Ahmad yuan arby</td>\n",
       "      <td>19081010177</td>\n",
       "      <td>Krembumg</td>\n",
       "      <td>Sidoarjo</td>\n",
       "      <td>200</td>\n",
       "    </tr>\n",
       "    <tr>\n",
       "      <th>20</th>\n",
       "      <td>Fatimatuz Zahroh</td>\n",
       "      <td>19081010021</td>\n",
       "      <td>Palang</td>\n",
       "      <td>Tuban</td>\n",
       "      <td>210</td>\n",
       "    </tr>\n",
       "    <tr>\n",
       "      <th>21</th>\n",
       "      <td>Ja'far Shodiq</td>\n",
       "      <td>18081010083</td>\n",
       "      <td>krembangan</td>\n",
       "      <td>surabaya</td>\n",
       "      <td>210</td>\n",
       "    </tr>\n",
       "    <tr>\n",
       "      <th>22</th>\n",
       "      <td>Puteri Aulia Fahlia</td>\n",
       "      <td>19081010095</td>\n",
       "      <td>Sedati</td>\n",
       "      <td>Sidoarjo</td>\n",
       "      <td>210</td>\n",
       "    </tr>\n",
       "    <tr>\n",
       "      <th>23</th>\n",
       "      <td>Husain Taufiqqurrahman</td>\n",
       "      <td>19081010075</td>\n",
       "      <td>Telukjambe Timur</td>\n",
       "      <td>Karawang</td>\n",
       "      <td>210</td>\n",
       "    </tr>\n",
       "    <tr>\n",
       "      <th>24</th>\n",
       "      <td>Genjah Ilham Zamzami</td>\n",
       "      <td>19081010147</td>\n",
       "      <td>tegalsari</td>\n",
       "      <td>surabaya</td>\n",
       "      <td>240</td>\n",
       "    </tr>\n",
       "    <tr>\n",
       "      <th>25</th>\n",
       "      <td>Wariyanti Nugroho Putri</td>\n",
       "      <td>19081010020</td>\n",
       "      <td>Kauman</td>\n",
       "      <td>Tulungagung</td>\n",
       "      <td>240</td>\n",
       "    </tr>\n",
       "    <tr>\n",
       "      <th>26</th>\n",
       "      <td>Raviy Bayu Setiaji</td>\n",
       "      <td>19081010010</td>\n",
       "      <td>Buduran</td>\n",
       "      <td>Sidoarjo</td>\n",
       "      <td>300</td>\n",
       "    </tr>\n",
       "    <tr>\n",
       "      <th>27</th>\n",
       "      <td>Muhammad Dhiya'ulhaq Rizqulloh Zain</td>\n",
       "      <td>19081010169</td>\n",
       "      <td>Menganti</td>\n",
       "      <td>Gresik</td>\n",
       "      <td>360</td>\n",
       "    </tr>\n",
       "    <tr>\n",
       "      <th>28</th>\n",
       "      <td>I Dewa Gde Satria Pramana Erlangga</td>\n",
       "      <td>19081010149</td>\n",
       "      <td>Pupuan</td>\n",
       "      <td>Tabanan</td>\n",
       "      <td>400</td>\n",
       "    </tr>\n",
       "    <tr>\n",
       "      <th>29</th>\n",
       "      <td>Taufik Hidayat</td>\n",
       "      <td>19081010027</td>\n",
       "      <td>sedati</td>\n",
       "      <td>sidoarjo</td>\n",
       "      <td>420</td>\n",
       "    </tr>\n",
       "    <tr>\n",
       "      <th>30</th>\n",
       "      <td>Andhika Ahnaf Daniswara</td>\n",
       "      <td>19081010124</td>\n",
       "      <td>Purworejo</td>\n",
       "      <td>Kota Pasuruan</td>\n",
       "      <td>420</td>\n",
       "    </tr>\n",
       "    <tr>\n",
       "      <th>31</th>\n",
       "      <td>Imalia Rosyida</td>\n",
       "      <td>19081010113</td>\n",
       "      <td>Parengan</td>\n",
       "      <td>Tuban</td>\n",
       "      <td>420</td>\n",
       "    </tr>\n",
       "    <tr>\n",
       "      <th>32</th>\n",
       "      <td>Christian Wahyu</td>\n",
       "      <td>19081010032</td>\n",
       "      <td>Gayungan</td>\n",
       "      <td>Surabaya</td>\n",
       "      <td>420</td>\n",
       "    </tr>\n",
       "    <tr>\n",
       "      <th>33</th>\n",
       "      <td>Putu nandhika pratama artana</td>\n",
       "      <td>19081010143</td>\n",
       "      <td>Geeokgak</td>\n",
       "      <td>Kabupaten Buleleng</td>\n",
       "      <td>420</td>\n",
       "    </tr>\n",
       "    <tr>\n",
       "      <th>34</th>\n",
       "      <td>Galih Arum Prabowo</td>\n",
       "      <td>19081010181</td>\n",
       "      <td>Gedangan</td>\n",
       "      <td>Sidoarjo</td>\n",
       "      <td>480</td>\n",
       "    </tr>\n",
       "    <tr>\n",
       "      <th>35</th>\n",
       "      <td>DIcky Giancini</td>\n",
       "      <td>17081010062</td>\n",
       "      <td>Jambangan</td>\n",
       "      <td>Jambangan</td>\n",
       "      <td>500</td>\n",
       "    </tr>\n",
       "    <tr>\n",
       "      <th>36</th>\n",
       "      <td>Muhammad Lutfi Pratama</td>\n",
       "      <td>19081010049</td>\n",
       "      <td>Tuban</td>\n",
       "      <td>Tuban</td>\n",
       "      <td>500</td>\n",
       "    </tr>\n",
       "    <tr>\n",
       "      <th>37</th>\n",
       "      <td>Arif Widiasan Subagio</td>\n",
       "      <td>19081010065</td>\n",
       "      <td>Sukolilo</td>\n",
       "      <td>Surabaya</td>\n",
       "      <td>525</td>\n",
       "    </tr>\n",
       "    <tr>\n",
       "      <th>38</th>\n",
       "      <td>Firmansyah Firdaus Anhar</td>\n",
       "      <td>19081010031</td>\n",
       "      <td>Sidoarjo</td>\n",
       "      <td>Sidoarjo</td>\n",
       "      <td>540</td>\n",
       "    </tr>\n",
       "    <tr>\n",
       "      <th>39</th>\n",
       "      <td>dede ikhsan</td>\n",
       "      <td>19081010150</td>\n",
       "      <td>taman</td>\n",
       "      <td>sidoarjo</td>\n",
       "      <td>600</td>\n",
       "    </tr>\n",
       "    <tr>\n",
       "      <th>40</th>\n",
       "      <td>Aghil Sahputro</td>\n",
       "      <td>18081010110</td>\n",
       "      <td>Pandaan</td>\n",
       "      <td>Pasuruan</td>\n",
       "      <td>600</td>\n",
       "    </tr>\n",
       "    <tr>\n",
       "      <th>41</th>\n",
       "      <td>Anwar Sanusi</td>\n",
       "      <td>19081010068</td>\n",
       "      <td>Bubutan</td>\n",
       "      <td>Surabaya</td>\n",
       "      <td>660</td>\n",
       "    </tr>\n",
       "    <tr>\n",
       "      <th>42</th>\n",
       "      <td>Rizal Afandi</td>\n",
       "      <td>19081010146</td>\n",
       "      <td>Karang Pilang</td>\n",
       "      <td>Surabaya</td>\n",
       "      <td>720</td>\n",
       "    </tr>\n",
       "    <tr>\n",
       "      <th>43</th>\n",
       "      <td>Muhammad Alfyando</td>\n",
       "      <td>19081010037</td>\n",
       "      <td>Loceret</td>\n",
       "      <td>Nganjuk</td>\n",
       "      <td>720</td>\n",
       "    </tr>\n",
       "    <tr>\n",
       "      <th>44</th>\n",
       "      <td>Joni Bastian</td>\n",
       "      <td>19081010071</td>\n",
       "      <td>Kundur</td>\n",
       "      <td>Karimun</td>\n",
       "      <td>820</td>\n",
       "    </tr>\n",
       "    <tr>\n",
       "      <th>45</th>\n",
       "      <td>Muhammad Eko Prasetyo</td>\n",
       "      <td>19081010097</td>\n",
       "      <td>Temon</td>\n",
       "      <td>Kulon Progo</td>\n",
       "      <td>840</td>\n",
       "    </tr>\n",
       "    <tr>\n",
       "      <th>46</th>\n",
       "      <td>Pande Putu Sunaryang Yogam Prasanta</td>\n",
       "      <td>19081010088</td>\n",
       "      <td>Kuta</td>\n",
       "      <td>Badung</td>\n",
       "      <td>840</td>\n",
       "    </tr>\n",
       "    <tr>\n",
       "      <th>47</th>\n",
       "      <td>Aditya Rizqi Ardhana</td>\n",
       "      <td>19081010178</td>\n",
       "      <td>Kenjeran</td>\n",
       "      <td>Surabaa</td>\n",
       "      <td>840</td>\n",
       "    </tr>\n",
       "    <tr>\n",
       "      <th>48</th>\n",
       "      <td>Ade Husni M</td>\n",
       "      <td>18081010039</td>\n",
       "      <td>Tambakwedi</td>\n",
       "      <td>surabaya</td>\n",
       "      <td>900</td>\n",
       "    </tr>\n",
       "    <tr>\n",
       "      <th>49</th>\n",
       "      <td>Angga Dwi Satria</td>\n",
       "      <td>18081010154</td>\n",
       "      <td>Tanggulangin</td>\n",
       "      <td>Sidoarjo</td>\n",
       "      <td>900</td>\n",
       "    </tr>\n",
       "  </tbody>\n",
       "</table>\n",
       "</div>"
      ],
      "text/plain": [
       "                           Nama Lengkap  No KTP / NPM               Kecamatan  \\\n",
       "0                 Mohammad Khairil Amin   19081010004  Kecamatan Kota Sumenep   \n",
       "1                     Nizar Abdurrahman   19081010025                    Beji   \n",
       "2                 Agung Rahmawan Gading   19081010161             Tambak Sari   \n",
       "3              Lusian Nandang Arjamulia   19081010070                    Maos   \n",
       "4                        Muhammad Helmi   19081010111                    Suko   \n",
       "5               Arya Fadhilah Daniswara   19081010187           Karang pilang   \n",
       "6               Nadhif Mahardika Awandi   19081010064                Taktakan   \n",
       "7           Muhammad Rayhan Rachmansyah   19081010002                  Sedati   \n",
       "8                       Octavianus Fian   19081010096                 Rungkut   \n",
       "9                  Achmad Yuneda Alfajr   19081010128                 Buduran   \n",
       "10                   Ghani Rafif Irawan   19081010110                 Jombang   \n",
       "11              Mochammad Kevin Santosa   19081010170                   Kerek   \n",
       "12                Dimas zainal muttaqin   19081010012                 Buduran   \n",
       "13                        Haryo Ghaza R   17081010072        Tenggilis Mejoyo   \n",
       "14                Dimas Seno Herlambang   19081010152                  Sedati   \n",
       "15                Aniisah Eka Rahmawati   19081010063                 Jombang   \n",
       "16                Alfinas Agung Mujiono   19081010069                  Benowo   \n",
       "17                  Eriko Indra Permana   19081010091              Pedurungan   \n",
       "18                          Zata Hashfi   19081010116                  Mandau   \n",
       "19                      Ahmad yuan arby   19081010177                Krembumg   \n",
       "20                     Fatimatuz Zahroh   19081010021                  Palang   \n",
       "21                        Ja'far Shodiq   18081010083              krembangan   \n",
       "22                  Puteri Aulia Fahlia   19081010095                  Sedati   \n",
       "23               Husain Taufiqqurrahman   19081010075        Telukjambe Timur   \n",
       "24                 Genjah Ilham Zamzami   19081010147               tegalsari   \n",
       "25              Wariyanti Nugroho Putri   19081010020                  Kauman   \n",
       "26                   Raviy Bayu Setiaji   19081010010                 Buduran   \n",
       "27  Muhammad Dhiya'ulhaq Rizqulloh Zain   19081010169                Menganti   \n",
       "28   I Dewa Gde Satria Pramana Erlangga   19081010149                  Pupuan   \n",
       "29                       Taufik Hidayat   19081010027                  sedati   \n",
       "30              Andhika Ahnaf Daniswara   19081010124               Purworejo   \n",
       "31                       Imalia Rosyida   19081010113                Parengan   \n",
       "32                      Christian Wahyu   19081010032                Gayungan   \n",
       "33         Putu nandhika pratama artana   19081010143                Geeokgak   \n",
       "34                   Galih Arum Prabowo   19081010181                Gedangan   \n",
       "35                       DIcky Giancini   17081010062               Jambangan   \n",
       "36               Muhammad Lutfi Pratama   19081010049                   Tuban   \n",
       "37                Arif Widiasan Subagio   19081010065                Sukolilo   \n",
       "38             Firmansyah Firdaus Anhar   19081010031                Sidoarjo   \n",
       "39                          dede ikhsan   19081010150                   taman   \n",
       "40                       Aghil Sahputro   18081010110                 Pandaan   \n",
       "41                         Anwar Sanusi   19081010068                 Bubutan   \n",
       "42                         Rizal Afandi   19081010146           Karang Pilang   \n",
       "43                    Muhammad Alfyando   19081010037                 Loceret   \n",
       "44                         Joni Bastian   19081010071                  Kundur   \n",
       "45                Muhammad Eko Prasetyo   19081010097                   Temon   \n",
       "46  Pande Putu Sunaryang Yogam Prasanta   19081010088                    Kuta   \n",
       "47                 Aditya Rizqi Ardhana   19081010178                Kenjeran   \n",
       "48                          Ade Husni M   18081010039              Tambakwedi   \n",
       "49                     Angga Dwi Satria   18081010154            Tanggulangin   \n",
       "\n",
       "      Kabupaten / Kota  Berapa Menit Anda Ngoding Dalam Satu Minggu  \n",
       "0    Kabupaten Sumenep                                           20  \n",
       "1             Pasuruan                                           30  \n",
       "2             Surabaya                                           30  \n",
       "3              Cilacap                                           45  \n",
       "4             Sidoarjo                                           45  \n",
       "5             Surabaya                                           60  \n",
       "6               Serang                                           60  \n",
       "7             Sidoarjo                                           75  \n",
       "8             Surabaya                                          100  \n",
       "9             Sidoarjo                                          100  \n",
       "10             Jombang                                          120  \n",
       "11               Tuban                                          120  \n",
       "12            Sidoarjo                                          120  \n",
       "13       Kota Surabaya                                          120  \n",
       "14            Sidoarjo                                          140  \n",
       "15             Jombang                                          150  \n",
       "16            Surabaya                                          160  \n",
       "17       Kota Semarang                                          180  \n",
       "18                Duri                                          180  \n",
       "19            Sidoarjo                                          200  \n",
       "20               Tuban                                          210  \n",
       "21            surabaya                                          210  \n",
       "22            Sidoarjo                                          210  \n",
       "23            Karawang                                          210  \n",
       "24            surabaya                                          240  \n",
       "25         Tulungagung                                          240  \n",
       "26            Sidoarjo                                          300  \n",
       "27              Gresik                                          360  \n",
       "28             Tabanan                                          400  \n",
       "29            sidoarjo                                          420  \n",
       "30       Kota Pasuruan                                          420  \n",
       "31               Tuban                                          420  \n",
       "32            Surabaya                                          420  \n",
       "33  Kabupaten Buleleng                                          420  \n",
       "34            Sidoarjo                                          480  \n",
       "35           Jambangan                                          500  \n",
       "36               Tuban                                          500  \n",
       "37            Surabaya                                          525  \n",
       "38            Sidoarjo                                          540  \n",
       "39            sidoarjo                                          600  \n",
       "40            Pasuruan                                          600  \n",
       "41            Surabaya                                          660  \n",
       "42            Surabaya                                          720  \n",
       "43             Nganjuk                                          720  \n",
       "44             Karimun                                          820  \n",
       "45         Kulon Progo                                          840  \n",
       "46              Badung                                          840  \n",
       "47             Surabaa                                          840  \n",
       "48            surabaya                                          900  \n",
       "49            Sidoarjo                                          900  "
      ]
     },
     "execution_count": 21,
     "metadata": {},
     "output_type": "execute_result"
    }
   ],
   "source": [
    "df"
   ]
  },
  {
   "cell_type": "markdown",
   "metadata": {
    "id": "XdF6ykDUXTTS"
   },
   "source": [
    "## Pengolahan Data"
   ]
  },
  {
   "cell_type": "code",
   "execution_count": 22,
   "metadata": {
    "colab": {
     "base_uri": "https://localhost:8080/"
    },
    "id": "SulGeEMgXTTT",
    "outputId": "55aab4b0-bb2c-4948-d990-68f56f65cf13",
    "scrolled": true
   },
   "outputs": [
    {
     "name": "stdout",
     "output_type": "stream",
     "text": [
      "Mean               : 350.4\n",
      "Median             : 240.0\n",
      "Modus              : 420\n",
      "Kuartil Bawah (Q1) : 120.0\n",
      "Kuartil atas  (Q3) : 518.75\n",
      "Varian             : 73114.12244897959\n",
      "Standar Deviasi    : 270.3962323128405\n",
      "Rentang Kelas      : 880\n",
      "Banyak Kelas       : 7\n",
      "Panjang Kelas      : 126\n"
     ]
    }
   ],
   "source": [
    "print_data_processing(mean_, median_, mode_, q1_, q3_, var_, std_, range_, class_, length_)"
   ]
  },
  {
   "cell_type": "markdown",
   "metadata": {
    "id": "8P3aQrlYXTTV"
   },
   "source": [
    "## Tabel Distribusi Frekuensi"
   ]
  },
  {
   "cell_type": "code",
   "execution_count": 23,
   "metadata": {
    "colab": {
     "base_uri": "https://localhost:8080/",
     "height": 254
    },
    "id": "IhoeecuPXTTV",
    "outputId": "3636a9da-ebe1-4a98-9707-90cd4ee90c24"
   },
   "outputs": [
    {
     "data": {
      "text/html": [
       "<div>\n",
       "<style scoped>\n",
       "    .dataframe tbody tr th:only-of-type {\n",
       "        vertical-align: middle;\n",
       "    }\n",
       "\n",
       "    .dataframe tbody tr th {\n",
       "        vertical-align: top;\n",
       "    }\n",
       "\n",
       "    .dataframe thead th {\n",
       "        text-align: right;\n",
       "    }\n",
       "</style>\n",
       "<table border=\"1\" class=\"dataframe\">\n",
       "  <thead>\n",
       "    <tr style=\"text-align: right;\">\n",
       "      <th></th>\n",
       "      <th>Interval Kelas</th>\n",
       "      <th>Frekuensi</th>\n",
       "    </tr>\n",
       "  </thead>\n",
       "  <tbody>\n",
       "    <tr>\n",
       "      <th>0</th>\n",
       "      <td>20 - 145</td>\n",
       "      <td>15</td>\n",
       "    </tr>\n",
       "    <tr>\n",
       "      <th>1</th>\n",
       "      <td>146 - 271</td>\n",
       "      <td>11</td>\n",
       "    </tr>\n",
       "    <tr>\n",
       "      <th>2</th>\n",
       "      <td>272 - 397</td>\n",
       "      <td>2</td>\n",
       "    </tr>\n",
       "    <tr>\n",
       "      <th>3</th>\n",
       "      <td>398 - 523</td>\n",
       "      <td>9</td>\n",
       "    </tr>\n",
       "    <tr>\n",
       "      <th>4</th>\n",
       "      <td>524 - 649</td>\n",
       "      <td>4</td>\n",
       "    </tr>\n",
       "    <tr>\n",
       "      <th>5</th>\n",
       "      <td>650 - 775</td>\n",
       "      <td>3</td>\n",
       "    </tr>\n",
       "    <tr>\n",
       "      <th>6</th>\n",
       "      <td>776 - 901</td>\n",
       "      <td>6</td>\n",
       "    </tr>\n",
       "  </tbody>\n",
       "</table>\n",
       "</div>"
      ],
      "text/plain": [
       "  Interval Kelas  Frekuensi\n",
       "0       20 - 145         15\n",
       "1      146 - 271         11\n",
       "2      272 - 397          2\n",
       "3      398 - 523          9\n",
       "4      524 - 649          4\n",
       "5      650 - 775          3\n",
       "6      776 - 901          6"
      ]
     },
     "execution_count": 23,
     "metadata": {},
     "output_type": "execute_result"
    }
   ],
   "source": [
    "frequency_distribution"
   ]
  },
  {
   "cell_type": "markdown",
   "metadata": {
    "id": "ocoBVv8AXTTX"
   },
   "source": [
    "## Tabel Distribusi Frekuensi Kumulatif"
   ]
  },
  {
   "cell_type": "code",
   "execution_count": 24,
   "metadata": {
    "colab": {
     "base_uri": "https://localhost:8080/",
     "height": 254
    },
    "id": "AHkqsCg6XTTX",
    "outputId": "9f186f99-03f0-45fd-ab52-ddbf7bbc83dd"
   },
   "outputs": [
    {
     "data": {
      "text/html": [
       "<div>\n",
       "<style scoped>\n",
       "    .dataframe tbody tr th:only-of-type {\n",
       "        vertical-align: middle;\n",
       "    }\n",
       "\n",
       "    .dataframe tbody tr th {\n",
       "        vertical-align: top;\n",
       "    }\n",
       "\n",
       "    .dataframe thead th {\n",
       "        text-align: right;\n",
       "    }\n",
       "</style>\n",
       "<table border=\"1\" class=\"dataframe\">\n",
       "  <thead>\n",
       "    <tr style=\"text-align: right;\">\n",
       "      <th></th>\n",
       "      <th>Interval Kelas</th>\n",
       "      <th>Kurang Dari</th>\n",
       "      <th>Fk ≤</th>\n",
       "      <th>Lebih Dari</th>\n",
       "      <th>Fk ≥</th>\n",
       "    </tr>\n",
       "  </thead>\n",
       "  <tbody>\n",
       "    <tr>\n",
       "      <th>0</th>\n",
       "      <td>20 - 145</td>\n",
       "      <td>≤ 19.5</td>\n",
       "      <td>15</td>\n",
       "      <td>≥ 145.5</td>\n",
       "      <td>50</td>\n",
       "    </tr>\n",
       "    <tr>\n",
       "      <th>1</th>\n",
       "      <td>146 - 271</td>\n",
       "      <td>≤ 145.5</td>\n",
       "      <td>26</td>\n",
       "      <td>≥ 271.5</td>\n",
       "      <td>35</td>\n",
       "    </tr>\n",
       "    <tr>\n",
       "      <th>2</th>\n",
       "      <td>272 - 397</td>\n",
       "      <td>≤ 271.5</td>\n",
       "      <td>28</td>\n",
       "      <td>≥ 397.5</td>\n",
       "      <td>24</td>\n",
       "    </tr>\n",
       "    <tr>\n",
       "      <th>3</th>\n",
       "      <td>398 - 523</td>\n",
       "      <td>≤ 397.5</td>\n",
       "      <td>37</td>\n",
       "      <td>≥ 523.5</td>\n",
       "      <td>22</td>\n",
       "    </tr>\n",
       "    <tr>\n",
       "      <th>4</th>\n",
       "      <td>524 - 649</td>\n",
       "      <td>≤ 523.5</td>\n",
       "      <td>41</td>\n",
       "      <td>≥ 649.5</td>\n",
       "      <td>13</td>\n",
       "    </tr>\n",
       "    <tr>\n",
       "      <th>5</th>\n",
       "      <td>650 - 775</td>\n",
       "      <td>≤ 649.5</td>\n",
       "      <td>44</td>\n",
       "      <td>≥ 775.5</td>\n",
       "      <td>9</td>\n",
       "    </tr>\n",
       "    <tr>\n",
       "      <th>6</th>\n",
       "      <td>776 - 901</td>\n",
       "      <td>≤ 775.5</td>\n",
       "      <td>50</td>\n",
       "      <td>≥ 901.5</td>\n",
       "      <td>6</td>\n",
       "    </tr>\n",
       "  </tbody>\n",
       "</table>\n",
       "</div>"
      ],
      "text/plain": [
       "  Interval Kelas Kurang Dari  Fk ≤ Lebih Dari  Fk ≥\n",
       "0       20 - 145      ≤ 19.5    15    ≥ 145.5    50\n",
       "1      146 - 271     ≤ 145.5    26    ≥ 271.5    35\n",
       "2      272 - 397     ≤ 271.5    28    ≥ 397.5    24\n",
       "3      398 - 523     ≤ 397.5    37    ≥ 523.5    22\n",
       "4      524 - 649     ≤ 523.5    41    ≥ 649.5    13\n",
       "5      650 - 775     ≤ 649.5    44    ≥ 775.5     9\n",
       "6      776 - 901     ≤ 775.5    50    ≥ 901.5     6"
      ]
     },
     "execution_count": 24,
     "metadata": {},
     "output_type": "execute_result"
    }
   ],
   "source": [
    "cumulative_frequency_distribution"
   ]
  },
  {
   "cell_type": "markdown",
   "metadata": {
    "id": "VWryZ08mXTTZ"
   },
   "source": [
    "## Tabel Distribusi Frekuensi Relatif"
   ]
  },
  {
   "cell_type": "code",
   "execution_count": 25,
   "metadata": {
    "colab": {
     "base_uri": "https://localhost:8080/",
     "height": 254
    },
    "id": "yZ1d8APdXTTZ",
    "outputId": "23a162fa-d378-4514-e198-55e9bab59182"
   },
   "outputs": [
    {
     "data": {
      "text/html": [
       "<div>\n",
       "<style scoped>\n",
       "    .dataframe tbody tr th:only-of-type {\n",
       "        vertical-align: middle;\n",
       "    }\n",
       "\n",
       "    .dataframe tbody tr th {\n",
       "        vertical-align: top;\n",
       "    }\n",
       "\n",
       "    .dataframe thead th {\n",
       "        text-align: right;\n",
       "    }\n",
       "</style>\n",
       "<table border=\"1\" class=\"dataframe\">\n",
       "  <thead>\n",
       "    <tr style=\"text-align: right;\">\n",
       "      <th></th>\n",
       "      <th>Interval Kelas</th>\n",
       "      <th>Frekuensi</th>\n",
       "      <th>Persentase (%)</th>\n",
       "    </tr>\n",
       "  </thead>\n",
       "  <tbody>\n",
       "    <tr>\n",
       "      <th>0</th>\n",
       "      <td>20 - 145</td>\n",
       "      <td>15</td>\n",
       "      <td>30%</td>\n",
       "    </tr>\n",
       "    <tr>\n",
       "      <th>1</th>\n",
       "      <td>146 - 271</td>\n",
       "      <td>11</td>\n",
       "      <td>22%</td>\n",
       "    </tr>\n",
       "    <tr>\n",
       "      <th>2</th>\n",
       "      <td>272 - 397</td>\n",
       "      <td>2</td>\n",
       "      <td>4%</td>\n",
       "    </tr>\n",
       "    <tr>\n",
       "      <th>3</th>\n",
       "      <td>398 - 523</td>\n",
       "      <td>9</td>\n",
       "      <td>18%</td>\n",
       "    </tr>\n",
       "    <tr>\n",
       "      <th>4</th>\n",
       "      <td>524 - 649</td>\n",
       "      <td>4</td>\n",
       "      <td>8%</td>\n",
       "    </tr>\n",
       "    <tr>\n",
       "      <th>5</th>\n",
       "      <td>650 - 775</td>\n",
       "      <td>3</td>\n",
       "      <td>6%</td>\n",
       "    </tr>\n",
       "    <tr>\n",
       "      <th>6</th>\n",
       "      <td>776 - 901</td>\n",
       "      <td>6</td>\n",
       "      <td>12%</td>\n",
       "    </tr>\n",
       "  </tbody>\n",
       "</table>\n",
       "</div>"
      ],
      "text/plain": [
       "  Interval Kelas  Frekuensi Persentase (%)\n",
       "0       20 - 145         15            30%\n",
       "1      146 - 271         11            22%\n",
       "2      272 - 397          2             4%\n",
       "3      398 - 523          9            18%\n",
       "4      524 - 649          4             8%\n",
       "5      650 - 775          3             6%\n",
       "6      776 - 901          6            12%"
      ]
     },
     "execution_count": 25,
     "metadata": {},
     "output_type": "execute_result"
    }
   ],
   "source": [
    "relative_frequency_distribution"
   ]
  },
  {
   "cell_type": "markdown",
   "metadata": {
    "id": "XBHpjzBqXTTc"
   },
   "source": [
    "## Tabel Distribusi Frekuensi Relatif Kumulatif"
   ]
  },
  {
   "cell_type": "code",
   "execution_count": 26,
   "metadata": {
    "colab": {
     "base_uri": "https://localhost:8080/",
     "height": 254
    },
    "id": "FmuHjMX-XTTc",
    "outputId": "d08cbabd-dba9-4a3a-f5ef-5c55562d75f8",
    "scrolled": true
   },
   "outputs": [
    {
     "data": {
      "text/html": [
       "<div>\n",
       "<style scoped>\n",
       "    .dataframe tbody tr th:only-of-type {\n",
       "        vertical-align: middle;\n",
       "    }\n",
       "\n",
       "    .dataframe tbody tr th {\n",
       "        vertical-align: top;\n",
       "    }\n",
       "\n",
       "    .dataframe thead th {\n",
       "        text-align: right;\n",
       "    }\n",
       "</style>\n",
       "<table border=\"1\" class=\"dataframe\">\n",
       "  <thead>\n",
       "    <tr style=\"text-align: right;\">\n",
       "      <th></th>\n",
       "      <th>Interval Kelas</th>\n",
       "      <th>Kurang Dari</th>\n",
       "      <th>Fk ≤ (%)</th>\n",
       "      <th>Lebih Dari</th>\n",
       "      <th>Fk ≥ (%)</th>\n",
       "    </tr>\n",
       "  </thead>\n",
       "  <tbody>\n",
       "    <tr>\n",
       "      <th>0</th>\n",
       "      <td>20 - 145</td>\n",
       "      <td>≤ 19.5</td>\n",
       "      <td>30%</td>\n",
       "      <td>≥ 145.5</td>\n",
       "      <td>100%</td>\n",
       "    </tr>\n",
       "    <tr>\n",
       "      <th>1</th>\n",
       "      <td>146 - 271</td>\n",
       "      <td>≤ 145.5</td>\n",
       "      <td>52%</td>\n",
       "      <td>≥ 271.5</td>\n",
       "      <td>70%</td>\n",
       "    </tr>\n",
       "    <tr>\n",
       "      <th>2</th>\n",
       "      <td>272 - 397</td>\n",
       "      <td>≤ 271.5</td>\n",
       "      <td>56%</td>\n",
       "      <td>≥ 397.5</td>\n",
       "      <td>48%</td>\n",
       "    </tr>\n",
       "    <tr>\n",
       "      <th>3</th>\n",
       "      <td>398 - 523</td>\n",
       "      <td>≤ 397.5</td>\n",
       "      <td>74%</td>\n",
       "      <td>≥ 523.5</td>\n",
       "      <td>44%</td>\n",
       "    </tr>\n",
       "    <tr>\n",
       "      <th>4</th>\n",
       "      <td>524 - 649</td>\n",
       "      <td>≤ 523.5</td>\n",
       "      <td>82%</td>\n",
       "      <td>≥ 649.5</td>\n",
       "      <td>26%</td>\n",
       "    </tr>\n",
       "    <tr>\n",
       "      <th>5</th>\n",
       "      <td>650 - 775</td>\n",
       "      <td>≤ 649.5</td>\n",
       "      <td>88%</td>\n",
       "      <td>≥ 775.5</td>\n",
       "      <td>18%</td>\n",
       "    </tr>\n",
       "    <tr>\n",
       "      <th>6</th>\n",
       "      <td>776 - 901</td>\n",
       "      <td>≤ 775.5</td>\n",
       "      <td>100%</td>\n",
       "      <td>≥ 901.5</td>\n",
       "      <td>12%</td>\n",
       "    </tr>\n",
       "  </tbody>\n",
       "</table>\n",
       "</div>"
      ],
      "text/plain": [
       "  Interval Kelas Kurang Dari Fk ≤ (%) Lebih Dari Fk ≥ (%)\n",
       "0       20 - 145      ≤ 19.5      30%    ≥ 145.5     100%\n",
       "1      146 - 271     ≤ 145.5      52%    ≥ 271.5      70%\n",
       "2      272 - 397     ≤ 271.5      56%    ≥ 397.5      48%\n",
       "3      398 - 523     ≤ 397.5      74%    ≥ 523.5      44%\n",
       "4      524 - 649     ≤ 523.5      82%    ≥ 649.5      26%\n",
       "5      650 - 775     ≤ 649.5      88%    ≥ 775.5      18%\n",
       "6      776 - 901     ≤ 775.5     100%    ≥ 901.5      12%"
      ]
     },
     "execution_count": 26,
     "metadata": {},
     "output_type": "execute_result"
    }
   ],
   "source": [
    "cumulative_relative_frequency_distribution"
   ]
  },
  {
   "cell_type": "markdown",
   "metadata": {
    "id": "h3SJWDT7XTTf"
   },
   "source": [
    "## Diagram Histogram"
   ]
  },
  {
   "cell_type": "code",
   "execution_count": 27,
   "metadata": {
    "colab": {
     "base_uri": "https://localhost:8080/",
     "height": 729
    },
    "id": "MhAJcuQXXTTf",
    "outputId": "2dfca390-c607-4cd6-dd25-34e466eda4ec",
    "scrolled": false
   },
   "outputs": [
    {
     "data": {
      "image/png": "[encoded data removed]",
      "text/plain": [
       "<Figure size 1080x864 with 4 Axes>"
      ]
     },
     "metadata": {},
     "output_type": "display_data"
    }
   ],
   "source": [
    "draw_hist()"
   ]
  },
  {
   "cell_type": "markdown",
   "metadata": {
    "id": "X5Bn1mxPXTTi"
   },
   "source": [
    "## Diagram Lingkaran"
   ]
  },
  {
   "cell_type": "code",
   "execution_count": 28,
   "metadata": {
    "colab": {
     "base_uri": "https://localhost:8080/",
     "height": 698
    },
    "id": "VLuEPRBgXTTi",
    "outputId": "b750e073-65dd-42f0-d11a-bcf82f62c9a9",
    "scrolled": false
   },
   "outputs": [
    {
     "data": {
      "image/png": "[encoded data removed]",
      "text/plain": [
       "<Figure size 1080x864 with 4 Axes>"
      ]
     },
     "metadata": {},
     "output_type": "display_data"
    }
   ],
   "source": [
    "draw_pie()"
   ]
  },
  {
   "cell_type": "markdown",
   "metadata": {
    "id": "CQdXAmNyXTTk"
   },
   "source": [
    "## Diagram Ogive"
   ]
  },
  {
   "cell_type": "code",
   "execution_count": 29,
   "metadata": {
    "colab": {
     "base_uri": "https://localhost:8080/",
     "height": 729
    },
    "id": "_BHnrJ1GXTTl",
    "outputId": "b3b5910b-0d8a-40e1-e2c9-e9b234786b77",
    "scrolled": false
   },
   "outputs": [
    {
     "data": {
      "image/png": "[encoded data removed]",
      "text/plain": [
       "<Figure size 1296x864 with 4 Axes>"
      ]
     },
     "metadata": {},
     "output_type": "display_data"
    }
   ],
   "source": [
    "draw_ogive()"
   ]
  },
  {
   "cell_type": "code",
   "execution_count": null,
   "metadata": {
    "id": "KgqYqLmhXTTn"
   },
   "outputs": [],
   "source": []
  }
 ],
 "metadata": {
  "colab": {
   "collapsed_sections": [],
   "include_colab_link": true,
   "name": "main.ipynb",
   "provenance": []
  },
  "kernelspec": {
   "display_name": "Python 3 (ipykernel)",
   "language": "python",
   "name": "python3"
  },
  "language_info": {
   "codemirror_mode": {
    "name": "ipython",
    "version": 3
   },
   "file_extension": ".py",
   "mimetype": "text/x-python",
   "name": "python",
   "nbconvert_exporter": "python",
   "pygments_lexer": "ipython3",
   "version": "3.9.6"
  }
 },
 "nbformat": 4,
 "nbformat_minor": 1
}
